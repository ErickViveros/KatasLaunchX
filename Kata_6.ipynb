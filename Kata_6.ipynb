{
 "cells": [
  {
   "cell_type": "markdown",
   "metadata": {},
   "source": [
    "## Kata 6\n",
    "\n",
    "Módulo 6 - Introducción a las listas\n",
    "\n",
    "Ejercicio 1."
   ]
  },
  {
   "cell_type": "code",
   "execution_count": 45,
   "metadata": {},
   "outputs": [
    {
     "name": "stdout",
     "output_type": "stream",
     "text": [
      "The First planet in the solar system is Mercury.\n",
      "The Second planet in the solar system is Venus.\n",
      "The Third planet in the solar system is Earth.\n",
      "The Fourth planet in the solar system is Mars.\n",
      "The Fifth planet in the solar system is Jupiter.\n",
      "The Sixth planet in the solar system is Saturn.\n",
      "The Seventh planet in the solar system is Uranus.\n",
      "The Eigth planet in the solar system is Neptune.\n",
      "There are 8 planets in the solar system.\n"
     ]
    }
   ],
   "source": [
    "planets = ['Mercury', 'Venus', 'Earth', 'Mars', 'Jupiter', 'Saturn', 'Uranus', 'Neptune']\n",
    "position = ['First','Second','Third','Fourth','Fifth','Sixth','Seventh','Eigth','Ninth']\n",
    "planets_template ='The {position} planet in the solar system is {planets}.'\n",
    "y = 0\n",
    "for x in planets:\n",
    "    print(planets_template.format(position=position[y],planets=x))\n",
    "    y = y+1\n",
    "number_of_planets = len(planets)\n",
    "print('There are', number_of_planets, 'planets in the solar system.')"
   ]
  },
  {
   "cell_type": "code",
   "execution_count": 46,
   "metadata": {},
   "outputs": [
    {
     "name": "stdout",
     "output_type": "stream",
     "text": [
      "There are actually 9 planets in the solar system.\n",
      "Last planet: Pluto\n"
     ]
    }
   ],
   "source": [
    "planets.append('Pluto')\n",
    "number_of_planets = len(planets)\n",
    "print('There are actually', number_of_planets, 'planets in the solar system.')\n",
    "print('Last planet:',planets[-1])"
   ]
  },
  {
   "cell_type": "markdown",
   "metadata": {},
   "source": [
    "Ejercicio 2."
   ]
  },
  {
   "cell_type": "code",
   "execution_count": 47,
   "metadata": {},
   "outputs": [],
   "source": [
    "planets = ['Mercury', 'Venus', 'Earth', 'Mars', 'Jupiter', 'Saturn', 'Uranus', 'Neptune']"
   ]
  },
  {
   "cell_type": "code",
   "execution_count": 48,
   "metadata": {},
   "outputs": [],
   "source": [
    "new_planet = input(\"Add a new planet:\")\n",
    "planets.append(new_planet)"
   ]
  },
  {
   "cell_type": "code",
   "execution_count": 49,
   "metadata": {},
   "outputs": [
    {
     "name": "stdout",
     "output_type": "stream",
     "text": [
      "Planet found on index # 8\n"
     ]
    }
   ],
   "source": [
    "planets_index = planets.index(new_planet)\n",
    "print('Planet found on index #',planets_index)"
   ]
  },
  {
   "cell_type": "code",
   "execution_count": 50,
   "metadata": {},
   "outputs": [
    {
     "name": "stdout",
     "output_type": "stream",
     "text": [
      "Planets closer to the sun than: Ere\n",
      "['Mercury', 'Venus', 'Earth', 'Mars', 'Jupiter', 'Saturn', 'Uranus', 'Neptune']\n"
     ]
    }
   ],
   "source": [
    "print('Planets closer to the sun than:', new_planet)\n",
    "print(planets[0:planets_index])\n"
   ]
  },
  {
   "cell_type": "code",
   "execution_count": 51,
   "metadata": {},
   "outputs": [
    {
     "name": "stdout",
     "output_type": "stream",
     "text": [
      "Planets further to the sun than: Ere\n",
      "Ere\n"
     ]
    }
   ],
   "source": [
    "print('Planets further to the sun than:', new_planet)\n",
    "print(planets[planets_index])"
   ]
  }
 ],
 "metadata": {
  "interpreter": {
   "hash": "840982189158f18f299d05f97dfb45eb9067aec8bffd091fd847425978e1210e"
  },
  "kernelspec": {
   "display_name": "Python 3.9.7 64-bit",
   "language": "python",
   "name": "python3"
  },
  "language_info": {
   "codemirror_mode": {
    "name": "ipython",
    "version": 3
   },
   "file_extension": ".py",
   "mimetype": "text/x-python",
   "name": "python",
   "nbconvert_exporter": "python",
   "pygments_lexer": "ipython3",
   "version": "3.9.7"
  },
  "orig_nbformat": 4
 },
 "nbformat": 4,
 "nbformat_minor": 2
}
