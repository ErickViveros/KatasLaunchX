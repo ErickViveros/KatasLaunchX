{
 "cells": [
  {
   "cell_type": "markdown",
   "metadata": {},
   "source": [
    "## Kata 9\n",
    "\n",
    "Módulo 9 - Funciones\n",
    "\n",
    "Ejercicio 1"
   ]
  },
  {
   "cell_type": "code",
   "execution_count": 23,
   "metadata": {},
   "outputs": [],
   "source": [
    "def totalfuel(tank1,tank2,tank3):\n",
    "    fuel_average = (tank2+tank1+tank3)/3\n",
    "    return f\"\"\"\n",
    "    Fuel in Tank 1: {tank1}%\n",
    "    Fuel in Tank 2: {tank2}%\n",
    "    Fuel in Tank 3: {tank3}%\n",
    "    Average fuel: {fuel_average}%\n",
    "    \"\"\""
   ]
  },
  {
   "cell_type": "code",
   "execution_count": 24,
   "metadata": {},
   "outputs": [
    {
     "name": "stdout",
     "output_type": "stream",
     "text": [
      "\n",
      "    Fuel in Tank 1: 10%\n",
      "    Fuel in Tank 2: 10%\n",
      "    Fuel in Tank 3: 10%\n",
      "    Average fuel: 10.0%\n",
      "    \n"
     ]
    }
   ],
   "source": [
    "print(totalfuel(10,10,10))"
   ]
  },
  {
   "cell_type": "code",
   "execution_count": 25,
   "metadata": {},
   "outputs": [],
   "source": [
    "def average(tank1,tank2,tank3):\n",
    "    fuel_average = tank1 + tank2 + tank3\n",
    "    return fuel_average/3"
   ]
  },
  {
   "cell_type": "code",
   "execution_count": 26,
   "metadata": {},
   "outputs": [
    {
     "name": "stdout",
     "output_type": "stream",
     "text": [
      "\n",
      "    Fuel in Tank 1: 10%\n",
      "    Fuel in Tank 2: 10%\n",
      "    Fuel in Tank 3: 10%\n",
      "    Average fuel: 10.0%\n",
      "    \n"
     ]
    }
   ],
   "source": [
    "def totalfuel(tank1,tank2,tank3):\n",
    "    return f\"\"\"\n",
    "    Fuel in Tank 1: {tank1}%\n",
    "    Fuel in Tank 2: {tank2}%\n",
    "    Fuel in Tank 3: {tank3}%\n",
    "    Average fuel: {average(tank1,tank2,tank3)}%\n",
    "    \"\"\"\n",
    "print(totalfuel(10,10,10))"
   ]
  },
  {
   "cell_type": "markdown",
   "metadata": {},
   "source": [
    "Ejercicio 2"
   ]
  },
  {
   "cell_type": "code",
   "execution_count": 28,
   "metadata": {},
   "outputs": [
    {
     "name": "stdout",
     "output_type": "stream",
     "text": [
      "\n",
      "    Destination : <Moon>\n",
      "    Arrival time: <40 minutes>\n",
      "    Fuel reservoir: <5500 L>\n",
      "    \n"
     ]
    }
   ],
   "source": [
    "def rocket_report (destination, prelaunch_t, air_time, internal_tank, external_tank):\n",
    "    return f\"\"\"\n",
    "    Destination : <{destination}>\n",
    "    Arrival time: <{prelaunch_t+air_time} minutes>\n",
    "    Fuel reservoir: <{internal_tank+external_tank} L>\n",
    "    \"\"\"\n",
    "# Tank in liters, Time in minutes.\n",
    "print(rocket_report('Moon',30,10,2500,3000))"
   ]
  },
  {
   "cell_type": "code",
   "execution_count": 30,
   "metadata": {},
   "outputs": [
    {
     "name": "stdout",
     "output_type": "stream",
     "text": [
      "\n",
      "    Destination : <Moon>\n",
      "    Arrival time: <140 minutes>\n",
      "    Fuel reservoir: <5500 L>\n",
      "    \n"
     ]
    }
   ],
   "source": [
    "def rocket_report (destination, *time, **fuel):\n",
    "    return f\"\"\"\n",
    "    Destination : <{destination}>\n",
    "    Total travel time: <{sum(time)} minutes>\n",
    "    Fuel reservoir: <{sum(fuel.values())} L>\n",
    "    \"\"\"\n",
    "# Tank in liters, Time in minutes.\n",
    "print(rocket_report('Moon',30,10,100,internal_tank = 2500,external_tank = 3000))"
   ]
  },
  {
   "cell_type": "code",
   "execution_count": 33,
   "metadata": {},
   "outputs": [
    {
     "name": "stdout",
     "output_type": "stream",
     "text": [
      "\n",
      "    Destination : <Moon>\n",
      "    Total travel time: <140 minutes>\n",
      "    Fuel reservoir: <5500 liters left>\n",
      "    internal_tank : has 2500 liters left.\n",
      "external_tank : has 3000 liters left.\n",
      "\n"
     ]
    }
   ],
   "source": [
    "def rocket_report (destination, *time, **fuel):\n",
    "    report = f\"\"\"\n",
    "    Destination : <{destination}>\n",
    "    Total travel time: <{sum(time)} minutes>\n",
    "    Fuel reservoir: <{sum(fuel.values())} liters left>\n",
    "    \"\"\"\n",
    "    for name,liters in fuel.items():\n",
    "        report += f\"{name} : has {liters} liters left.\\n\"\n",
    "    return report\n",
    "# Tank in liters, Time in minutes.\n",
    "print(rocket_report('Moon',30,10,100,internal_tank = 2500,external_tank = 3000))"
   ]
  }
 ],
 "metadata": {
  "interpreter": {
   "hash": "840982189158f18f299d05f97dfb45eb9067aec8bffd091fd847425978e1210e"
  },
  "kernelspec": {
   "display_name": "Python 3.9.7 64-bit",
   "language": "python",
   "name": "python3"
  },
  "language_info": {
   "codemirror_mode": {
    "name": "ipython",
    "version": 3
   },
   "file_extension": ".py",
   "mimetype": "text/x-python",
   "name": "python",
   "nbconvert_exporter": "python",
   "pygments_lexer": "ipython3",
   "version": "3.9.7"
  },
  "orig_nbformat": 4
 },
 "nbformat": 4,
 "nbformat_minor": 2
}
