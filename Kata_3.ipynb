{
 "cells": [
  {
   "cell_type": "markdown",
   "metadata": {},
   "source": [
    "## Kata 3\n",
    "Módulo 3 - Usar lógica booleana"
   ]
  },
  {
   "cell_type": "markdown",
   "metadata": {},
   "source": [
    "Ejercicio 1."
   ]
  },
  {
   "cell_type": "code",
   "execution_count": 19,
   "metadata": {},
   "outputs": [
    {
     "name": "stdout",
     "output_type": "stream",
     "text": [
      "Advertencia: Asteroide acercandose a velocidad de 49km/s!!!\n"
     ]
    }
   ],
   "source": [
    "asteroide = 49\n",
    "if asteroide > 25:\n",
    "    print(\"Advertencia: Asteroide acercandose a velocidad de \" + str(asteroide) + \"km/s!!!\")\n",
    "else:\n",
    "    print(\"No hay amenazas... aún...\")"
   ]
  },
  {
   "cell_type": "markdown",
   "metadata": {},
   "source": [
    "Ejercicio 2."
   ]
  },
  {
   "cell_type": "code",
   "execution_count": 22,
   "metadata": {},
   "outputs": [
    {
     "name": "stdout",
     "output_type": "stream",
     "text": [
      "Hay una luz peculiar en el cielo! Es un asteroide :D!\n"
     ]
    }
   ],
   "source": [
    "asteroide = 20\n",
    "if asteroide > 20:\n",
    "    print(\"Hay una luz peculiar en el cielo! Es un asteroide :D!\")\n",
    "elif asteroide == 20:\n",
    "    print(\"Hay una luz peculiar en el cielo! Es un asteroide :D!\")\n",
    "else:\n",
    "    print(\"No se puede ver nada . . . \")"
   ]
  },
  {
   "cell_type": "markdown",
   "metadata": {},
   "source": [
    "Ejercicio 3."
   ]
  },
  {
   "cell_type": "code",
   "execution_count": 49,
   "metadata": {},
   "outputs": [
    {
     "name": "stdout",
     "output_type": "stream",
     "text": [
      "Advertencia! Un asteroide peligroso se dirige a la Tierrra a una velocidad de 25.5km/s!!\n"
     ]
    }
   ],
   "source": [
    "velAsteroide = 25.5\n",
    "tamAsteroide = 50\n",
    "\n",
    "if tamAsteroide > 1000:\n",
    "    print(\"Advertencia! Se avecina un asteroide de gran tamaño y peligroso! Busquen refugio!\")\n",
    "elif tamAsteroide > 25 and velAsteroide > 25:\n",
    "    print(\"Advertencia! Un asteroide peligroso se dirige a la Tierrra a una velocidad de \" + str(velAsteroide) + \"km/s!!\")\n",
    "elif velAsteroide > 20:\n",
    "    print(\"Hay una luz peculiar en el cielo! Es un asteroide :D!\")\n",
    "elif velAsteroide == 20:\n",
    "    print(\"Hay una luz peculiar en el cielo! Es un asteroide :D!\")\n",
    "elif velAsteroide < 25 or tamAsteroide <20:\n",
    "    print(\"No se puede ver nada . . . \")\n",
    "else:\n",
    "    print(\"Nada en el cielo.\")"
   ]
  }
 ],
 "metadata": {
  "interpreter": {
   "hash": "840982189158f18f299d05f97dfb45eb9067aec8bffd091fd847425978e1210e"
  },
  "kernelspec": {
   "display_name": "Python 3.9.7 64-bit",
   "language": "python",
   "name": "python3"
  },
  "language_info": {
   "codemirror_mode": {
    "name": "ipython",
    "version": 3
   },
   "file_extension": ".py",
   "mimetype": "text/x-python",
   "name": "python",
   "nbconvert_exporter": "python",
   "pygments_lexer": "ipython3",
   "version": "3.9.7"
  },
  "orig_nbformat": 4
 },
 "nbformat": 4,
 "nbformat_minor": 2
}
