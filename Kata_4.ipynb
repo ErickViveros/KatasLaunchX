{
 "cells": [
  {
   "cell_type": "markdown",
   "metadata": {},
   "source": [
    "## Kata 4\n",
    "Módulo 4 - Cadenas"
   ]
  },
  {
   "cell_type": "markdown",
   "metadata": {},
   "source": [
    "Ejercicio 3."
   ]
  },
  {
   "cell_type": "code",
   "execution_count": 54,
   "metadata": {},
   "outputs": [],
   "source": [
    "text = \"\"\"Interesting facts about the Moon. The Moon is Earth's only satellite. There are several interesting facts about the Moon and how it affects life here on Earth. On average, the Moon moves 4cm away from the Earth every year. This yearly drift is not significant enough to cause immediate effects on Earth. The highest daylight temperature of the Moon is 127 C.\"\"\"\n"
   ]
  },
  {
   "cell_type": "code",
   "execution_count": 55,
   "metadata": {},
   "outputs": [
    {
     "data": {
      "text/plain": [
       "['Interesting facts about the Moon',\n",
       " \" The Moon is Earth's only satellite\",\n",
       " ' There are several interesting facts about the Moon and how it affects life here on Earth',\n",
       " ' On average, the Moon moves 4cm away from the Earth every year',\n",
       " ' This yearly drift is not significant enough to cause immediate effects on Earth',\n",
       " ' The highest daylight temperature of the Moon is 127 C',\n",
       " '']"
      ]
     },
     "execution_count": 55,
     "metadata": {},
     "output_type": "execute_result"
    }
   ],
   "source": [
    "dividedtext = text.split('.')\n",
    "dividedtext"
   ]
  },
  {
   "cell_type": "code",
   "execution_count": 56,
   "metadata": {},
   "outputs": [
    {
     "name": "stdout",
     "output_type": "stream",
     "text": [
      " The Moon is Earth's only satellite\n",
      " There are several interesting facts about the Moon and how it affects life here on Earth\n",
      " This yearly drift is not significant enough to cause immediate effects on Earth\n",
      " The highest daylight temperature of the Moon is 127 C\n"
     ]
    }
   ],
   "source": [
    "palabras_clave = [\"average\",\"temperature\",\"distance\"]\n",
    "for cadena in dividedtext:\n",
    "    for palabras_clave in palabras_clave:\n",
    "        if palabras_clave in cadena:\n",
    "            print(cadena)\n",
    "            break"
   ]
  },
  {
   "cell_type": "code",
   "execution_count": 57,
   "metadata": {},
   "outputs": [
    {
     "name": "stdout",
     "output_type": "stream",
     "text": [
      " The highest daylight temperature of the Moon is 127 Celsius\n"
     ]
    }
   ],
   "source": [
    "for cadena in dividedtext:\n",
    "    if 'C' in cadena:\n",
    "            print(cadena.replace('C', 'Celsius'))\n",
    "            break"
   ]
  },
  {
   "cell_type": "markdown",
   "metadata": {},
   "source": [
    "Ejercicio 2"
   ]
  },
  {
   "cell_type": "code",
   "execution_count": 58,
   "metadata": {},
   "outputs": [],
   "source": [
    "# Datos con los que vas a trabajar\n",
    "name = \"Moon\"\n",
    "gravity = 0.00162 # in kms2\n",
    "planet = \"Earth\""
   ]
  },
  {
   "cell_type": "code",
   "execution_count": 59,
   "metadata": {},
   "outputs": [],
   "source": [
    "heading = f'Gravity facts about {name}'"
   ]
  },
  {
   "cell_type": "code",
   "execution_count": 60,
   "metadata": {},
   "outputs": [],
   "source": [
    "facts = f\"\"\"{'-'*100} \n",
    "Planet Name: {planet} \n",
    "Gravity on {name}: {gravity * 1000} km/s2 \n",
    "\"\"\""
   ]
  },
  {
   "cell_type": "code",
   "execution_count": 61,
   "metadata": {},
   "outputs": [
    {
     "name": "stdout",
     "output_type": "stream",
     "text": [
      "Gravity facts about Moon\n",
      "---------------------------------------------------------------------------------------------------- \n",
      "Planet Name: Earth \n",
      "Gravity on Moon: 1.6199999999999999 km/s2 \n",
      "\n"
     ]
    }
   ],
   "source": [
    "template = f\"\"\"{heading}\n",
    "{facts}\"\"\"\n",
    "print(template)"
   ]
  },
  {
   "cell_type": "code",
   "execution_count": 62,
   "metadata": {},
   "outputs": [
    {
     "name": "stdout",
     "output_type": "stream",
     "text": [
      "Gravity facts about Moon\n",
      "---------------------------------------------------------------------------------------------------- \n",
      "Planet Name: Earth \n",
      "Gravity on Moon: 1.6199999999999999 km/s2 \n",
      "\n"
     ]
    }
   ],
   "source": [
    "name = \"Ganimedes\"\n",
    "gravity = 0.00143 # in kms2\n",
    "planet = \"Mars\"\n",
    "print(template)"
   ]
  },
  {
   "cell_type": "code",
   "execution_count": 66,
   "metadata": {},
   "outputs": [
    {
     "name": "stdout",
     "output_type": "stream",
     "text": [
      "\n",
      "Gravity facts about Ganimedes.\n",
      "--------------------------------------------------------------------------------\n",
      "Planet Name: Mars.\n",
      "Gravity on Ganimedes = 0.00143 in kms2.\n",
      "\n"
     ]
    }
   ],
   "source": [
    "new_template = \"\"\"\n",
    "Gravity facts about {name}.\n",
    "--------------------------------------------------------------------------------\n",
    "Planet Name: {planet}.\n",
    "Gravity on {name} = {gravity} in kms2.\n",
    "\"\"\"\n",
    "print (new_template.format(name=name,planet=planet,gravity=gravity*1000))"
   ]
  }
 ],
 "metadata": {
  "interpreter": {
   "hash": "840982189158f18f299d05f97dfb45eb9067aec8bffd091fd847425978e1210e"
  },
  "kernelspec": {
   "display_name": "Python 3.9.7 64-bit",
   "language": "python",
   "name": "python3"
  },
  "language_info": {
   "codemirror_mode": {
    "name": "ipython",
    "version": 3
   },
   "file_extension": ".py",
   "mimetype": "text/x-python",
   "name": "python",
   "nbconvert_exporter": "python",
   "pygments_lexer": "ipython3",
   "version": "3.9.7"
  },
  "orig_nbformat": 4
 },
 "nbformat": 4,
 "nbformat_minor": 2
}
